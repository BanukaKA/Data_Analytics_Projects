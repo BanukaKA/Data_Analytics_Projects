{
 "cells": [
  {
   "cell_type": "code",
   "execution_count": 1,
   "id": "c4cb68a9",
   "metadata": {},
   "outputs": [],
   "source": [
    "#Name : Banuka Kumara Ambegoda\n",
    "#Date : 2022-06-18\n",
    "#Assignment : Lab2 - PROG 1870\n",
    "#PART B"
   ]
  },
  {
   "cell_type": "code",
   "execution_count": 2,
   "id": "3a086616",
   "metadata": {},
   "outputs": [],
   "source": [
    "import pandas as pd"
   ]
  },
  {
   "cell_type": "code",
   "execution_count": 3,
   "id": "77de0bbb",
   "metadata": {},
   "outputs": [],
   "source": [
    "species_df = pd.read_csv(\"YellowstoneSpecies.csv\", \n",
    "                         usecols = [\"Category\", \"Order\", \"Family\", \"Common Names\", \"Observations\"])"
   ]
  },
  {
   "cell_type": "code",
   "execution_count": 4,
   "id": "629a4d99",
   "metadata": {},
   "outputs": [],
   "source": [
    "species_df['Observations'] = species_df['Observations'].fillna(0)"
   ]
  },
  {
   "cell_type": "code",
   "execution_count": 5,
   "id": "3aebcbd6",
   "metadata": {},
   "outputs": [],
   "source": [
    "species_df = species_df.fillna(\"Unknown\")"
   ]
  },
  {
   "cell_type": "code",
   "execution_count": 6,
   "id": "08620620",
   "metadata": {},
   "outputs": [],
   "source": [
    "northern_species_df = species_df[(species_df['Common Names'].str.contains('Northern')) & (species_df['Category'] == 'Bird')]"
   ]
  },
  {
   "cell_type": "code",
   "execution_count": 7,
   "id": "cc791c7d",
   "metadata": {},
   "outputs": [
    {
     "data": {
      "text/html": [
       "<div>\n",
       "<style scoped>\n",
       "    .dataframe tbody tr th:only-of-type {\n",
       "        vertical-align: middle;\n",
       "    }\n",
       "\n",
       "    .dataframe tbody tr th {\n",
       "        vertical-align: top;\n",
       "    }\n",
       "\n",
       "    .dataframe thead th {\n",
       "        text-align: right;\n",
       "    }\n",
       "</style>\n",
       "<table border=\"1\" class=\"dataframe\">\n",
       "  <thead>\n",
       "    <tr style=\"text-align: right;\">\n",
       "      <th></th>\n",
       "      <th>Category</th>\n",
       "      <th>Order</th>\n",
       "      <th>Family</th>\n",
       "      <th>Common Names</th>\n",
       "      <th>Observations</th>\n",
       "    </tr>\n",
       "  </thead>\n",
       "  <tbody>\n",
       "    <tr>\n",
       "      <th>81</th>\n",
       "      <td>Bird</td>\n",
       "      <td>Accipitriformes</td>\n",
       "      <td>Accipitridae</td>\n",
       "      <td>Northern Goshawk</td>\n",
       "      <td>11.0</td>\n",
       "    </tr>\n",
       "    <tr>\n",
       "      <th>90</th>\n",
       "      <td>Bird</td>\n",
       "      <td>Accipitriformes</td>\n",
       "      <td>Accipitridae</td>\n",
       "      <td>Northern Harrier</td>\n",
       "      <td>8.0</td>\n",
       "    </tr>\n",
       "    <tr>\n",
       "      <th>95</th>\n",
       "      <td>Bird</td>\n",
       "      <td>Anseriformes</td>\n",
       "      <td>Anatidae</td>\n",
       "      <td>Northern Pintail</td>\n",
       "      <td>1.0</td>\n",
       "    </tr>\n",
       "    <tr>\n",
       "      <th>97</th>\n",
       "      <td>Bird</td>\n",
       "      <td>Anseriformes</td>\n",
       "      <td>Anatidae</td>\n",
       "      <td>Northern Shoveler</td>\n",
       "      <td>3.0</td>\n",
       "    </tr>\n",
       "    <tr>\n",
       "      <th>205</th>\n",
       "      <td>Bird</td>\n",
       "      <td>Gaviiformes</td>\n",
       "      <td>Gaviidae</td>\n",
       "      <td>Common Loon, Great Northern Diver, Great North...</td>\n",
       "      <td>6.0</td>\n",
       "    </tr>\n",
       "    <tr>\n",
       "      <th>276</th>\n",
       "      <td>Bird</td>\n",
       "      <td>Passeriformes</td>\n",
       "      <td>Hirundinidae</td>\n",
       "      <td>Northern Rough-winged Swallow</td>\n",
       "      <td>0.0</td>\n",
       "    </tr>\n",
       "    <tr>\n",
       "      <th>284</th>\n",
       "      <td>Bird</td>\n",
       "      <td>Passeriformes</td>\n",
       "      <td>Icteridae</td>\n",
       "      <td>Baltimore Oriole, Northern Oriole</td>\n",
       "      <td>0.0</td>\n",
       "    </tr>\n",
       "    <tr>\n",
       "      <th>289</th>\n",
       "      <td>Bird</td>\n",
       "      <td>Passeriformes</td>\n",
       "      <td>Laniidae</td>\n",
       "      <td>Great Grey Shrike, Northern Shrike</td>\n",
       "      <td>3.0</td>\n",
       "    </tr>\n",
       "    <tr>\n",
       "      <th>292</th>\n",
       "      <td>Bird</td>\n",
       "      <td>Passeriformes</td>\n",
       "      <td>Mimidae</td>\n",
       "      <td>Northern Mockingbird</td>\n",
       "      <td>18.0</td>\n",
       "    </tr>\n",
       "    <tr>\n",
       "      <th>310</th>\n",
       "      <td>Bird</td>\n",
       "      <td>Passeriformes</td>\n",
       "      <td>Parulidae</td>\n",
       "      <td>Northern Waterthrush</td>\n",
       "      <td>0.0</td>\n",
       "    </tr>\n",
       "    <tr>\n",
       "      <th>376</th>\n",
       "      <td>Bird</td>\n",
       "      <td>Piciformes</td>\n",
       "      <td>Picidae</td>\n",
       "      <td>Northern Flicker</td>\n",
       "      <td>0.0</td>\n",
       "    </tr>\n",
       "    <tr>\n",
       "      <th>396</th>\n",
       "      <td>Bird</td>\n",
       "      <td>Strigiformes</td>\n",
       "      <td>Strigidae</td>\n",
       "      <td>Northern Saw-whet Owl</td>\n",
       "      <td>0.0</td>\n",
       "    </tr>\n",
       "    <tr>\n",
       "      <th>403</th>\n",
       "      <td>Bird</td>\n",
       "      <td>Strigiformes</td>\n",
       "      <td>Strigidae</td>\n",
       "      <td>Mountain Pygmy Owl, Northern Pygmy-Owl</td>\n",
       "      <td>0.0</td>\n",
       "    </tr>\n",
       "  </tbody>\n",
       "</table>\n",
       "</div>"
      ],
      "text/plain": [
       "    Category            Order        Family  \\\n",
       "81      Bird  Accipitriformes  Accipitridae   \n",
       "90      Bird  Accipitriformes  Accipitridae   \n",
       "95      Bird     Anseriformes      Anatidae   \n",
       "97      Bird     Anseriformes      Anatidae   \n",
       "205     Bird      Gaviiformes      Gaviidae   \n",
       "276     Bird    Passeriformes  Hirundinidae   \n",
       "284     Bird    Passeriformes     Icteridae   \n",
       "289     Bird    Passeriformes      Laniidae   \n",
       "292     Bird    Passeriformes       Mimidae   \n",
       "310     Bird    Passeriformes     Parulidae   \n",
       "376     Bird       Piciformes       Picidae   \n",
       "396     Bird     Strigiformes     Strigidae   \n",
       "403     Bird     Strigiformes     Strigidae   \n",
       "\n",
       "                                          Common Names  Observations  \n",
       "81                                    Northern Goshawk          11.0  \n",
       "90                                    Northern Harrier           8.0  \n",
       "95                                    Northern Pintail           1.0  \n",
       "97                                   Northern Shoveler           3.0  \n",
       "205  Common Loon, Great Northern Diver, Great North...           6.0  \n",
       "276                      Northern Rough-winged Swallow           0.0  \n",
       "284                  Baltimore Oriole, Northern Oriole           0.0  \n",
       "289                 Great Grey Shrike, Northern Shrike           3.0  \n",
       "292                               Northern Mockingbird          18.0  \n",
       "310                               Northern Waterthrush           0.0  \n",
       "376                                   Northern Flicker           0.0  \n",
       "396                              Northern Saw-whet Owl           0.0  \n",
       "403             Mountain Pygmy Owl, Northern Pygmy-Owl           0.0  "
      ]
     },
     "execution_count": 7,
     "metadata": {},
     "output_type": "execute_result"
    }
   ],
   "source": [
    "northern_species_df"
   ]
  },
  {
   "cell_type": "code",
   "execution_count": 8,
   "id": "b2ee2333",
   "metadata": {},
   "outputs": [
    {
     "data": {
      "text/plain": [
       "<AxesSubplot:title={'center':'Observations by Common Name'}, xlabel='Common Names'>"
      ]
     },
     "execution_count": 8,
     "metadata": {},
     "output_type": "execute_result"
    },
    {
     "data": {
      "image/png": "[encoded data removed]",
      "text/plain": [
       "<Figure size 432x288 with 1 Axes>"
      ]
     },
     "metadata": {
      "needs_background": "light"
     },
     "output_type": "display_data"
    }
   ],
   "source": [
    "northern_species_df.plot.bar(x='Common Names', y='Observations', rot=90, title = 'Observations by Common Name')"
   ]
  },
  {
   "cell_type": "code",
   "execution_count": 9,
   "id": "17280940",
   "metadata": {},
   "outputs": [],
   "source": [
    "final_df = northern_species_df.groupby(['Order','Family'])[\"Observations\"]"
   ]
  },
  {
   "cell_type": "code",
   "execution_count": 10,
   "id": "64b2db4a",
   "metadata": {},
   "outputs": [],
   "source": [
    "output_df = final_df.sum().to_frame().sort_values(by=[\"Observations\"], ascending=False)"
   ]
  },
  {
   "cell_type": "code",
   "execution_count": 11,
   "id": "1f7aa484",
   "metadata": {},
   "outputs": [
    {
     "data": {
      "text/html": [
       "<div>\n",
       "<style scoped>\n",
       "    .dataframe tbody tr th:only-of-type {\n",
       "        vertical-align: middle;\n",
       "    }\n",
       "\n",
       "    .dataframe tbody tr th {\n",
       "        vertical-align: top;\n",
       "    }\n",
       "\n",
       "    .dataframe thead th {\n",
       "        text-align: right;\n",
       "    }\n",
       "</style>\n",
       "<table border=\"1\" class=\"dataframe\">\n",
       "  <thead>\n",
       "    <tr style=\"text-align: right;\">\n",
       "      <th></th>\n",
       "      <th></th>\n",
       "      <th>Observations</th>\n",
       "    </tr>\n",
       "    <tr>\n",
       "      <th>Order</th>\n",
       "      <th>Family</th>\n",
       "      <th></th>\n",
       "    </tr>\n",
       "  </thead>\n",
       "  <tbody>\n",
       "    <tr>\n",
       "      <th>Accipitriformes</th>\n",
       "      <th>Accipitridae</th>\n",
       "      <td>19.0</td>\n",
       "    </tr>\n",
       "    <tr>\n",
       "      <th>Passeriformes</th>\n",
       "      <th>Mimidae</th>\n",
       "      <td>18.0</td>\n",
       "    </tr>\n",
       "    <tr>\n",
       "      <th>Gaviiformes</th>\n",
       "      <th>Gaviidae</th>\n",
       "      <td>6.0</td>\n",
       "    </tr>\n",
       "    <tr>\n",
       "      <th>Anseriformes</th>\n",
       "      <th>Anatidae</th>\n",
       "      <td>4.0</td>\n",
       "    </tr>\n",
       "    <tr>\n",
       "      <th rowspan=\"4\" valign=\"top\">Passeriformes</th>\n",
       "      <th>Laniidae</th>\n",
       "      <td>3.0</td>\n",
       "    </tr>\n",
       "    <tr>\n",
       "      <th>Hirundinidae</th>\n",
       "      <td>0.0</td>\n",
       "    </tr>\n",
       "    <tr>\n",
       "      <th>Icteridae</th>\n",
       "      <td>0.0</td>\n",
       "    </tr>\n",
       "    <tr>\n",
       "      <th>Parulidae</th>\n",
       "      <td>0.0</td>\n",
       "    </tr>\n",
       "    <tr>\n",
       "      <th>Piciformes</th>\n",
       "      <th>Picidae</th>\n",
       "      <td>0.0</td>\n",
       "    </tr>\n",
       "    <tr>\n",
       "      <th>Strigiformes</th>\n",
       "      <th>Strigidae</th>\n",
       "      <td>0.0</td>\n",
       "    </tr>\n",
       "  </tbody>\n",
       "</table>\n",
       "</div>"
      ],
      "text/plain": [
       "                              Observations\n",
       "Order           Family                    \n",
       "Accipitriformes Accipitridae          19.0\n",
       "Passeriformes   Mimidae               18.0\n",
       "Gaviiformes     Gaviidae               6.0\n",
       "Anseriformes    Anatidae               4.0\n",
       "Passeriformes   Laniidae               3.0\n",
       "                Hirundinidae           0.0\n",
       "                Icteridae              0.0\n",
       "                Parulidae              0.0\n",
       "Piciformes      Picidae                0.0\n",
       "Strigiformes    Strigidae              0.0"
      ]
     },
     "execution_count": 11,
     "metadata": {},
     "output_type": "execute_result"
    }
   ],
   "source": [
    "output_df"
   ]
  }
 ],
 "metadata": {
  "kernelspec": {
   "display_name": "Python 3 (ipykernel)",
   "language": "python",
   "name": "python3"
  },
  "language_info": {
   "codemirror_mode": {
    "name": "ipython",
    "version": 3
   },
   "file_extension": ".py",
   "mimetype": "text/x-python",
   "name": "python",
   "nbconvert_exporter": "python",
   "pygments_lexer": "ipython3",
   "version": "3.9.12"
  }
 },
 "nbformat": 4,
 "nbformat_minor": 5
}
