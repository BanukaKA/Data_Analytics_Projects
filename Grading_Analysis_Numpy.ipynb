{
 "cells": [
  {
   "cell_type": "code",
   "execution_count": 1,
   "id": "91268226",
   "metadata": {},
   "outputs": [],
   "source": [
    "#Name : Banuka Kumara Ambegoda\n",
    "#Date : 2022-06-18\n",
    "#Assignment : Lab2 - PROG 1870\n",
    "#PART A"
   ]
  },
  {
   "cell_type": "code",
   "execution_count": 2,
   "id": "54bec0ac-422e-4fcd-95db-4763076f06a2",
   "metadata": {},
   "outputs": [],
   "source": [
    "import numpy as np\n",
    "from matplotlib import pyplot as plt"
   ]
  },
  {
   "cell_type": "code",
   "execution_count": 3,
   "id": "c689aa27-4d10-4179-9ad0-347b4b48396a",
   "metadata": {},
   "outputs": [],
   "source": [
    "marks = np.random.randint(low = 35, high = 100, size=(100,5))"
   ]
  },
  {
   "cell_type": "code",
   "execution_count": 4,
   "id": "e6fb3d83-ce62-4b8b-abf7-82c1052c9f42",
   "metadata": {},
   "outputs": [],
   "source": [
    "low_marks = 50 > marks"
   ]
  },
  {
   "cell_type": "code",
   "execution_count": 5,
   "id": "e28ba25e-a917-455f-b0fd-88588f7d1bbb",
   "metadata": {},
   "outputs": [],
   "source": [
    "low_set = np.count_nonzero(low_marks, axis = 1) > 2"
   ]
  },
  {
   "cell_type": "code",
   "execution_count": 6,
   "id": "dede2fbe-9fef-4406-b8b3-02e9470c2474",
   "metadata": {},
   "outputs": [],
   "source": [
    "low_marks = marks[low_set]"
   ]
  },
  {
   "cell_type": "code",
   "execution_count": 7,
   "id": "704e0013",
   "metadata": {},
   "outputs": [
    {
     "data": {
      "text/plain": [
       "array([[39, 45, 49, 94, 72],\n",
       "       [35, 35, 60, 65, 46],\n",
       "       [35, 49, 43, 91, 75],\n",
       "       [41, 39, 54, 35, 99],\n",
       "       [44, 47, 43, 79, 45],\n",
       "       [58, 43, 37, 36, 95],\n",
       "       [38, 37, 70, 57, 47],\n",
       "       [35, 99, 49, 76, 49],\n",
       "       [49, 50, 99, 49, 36]])"
      ]
     },
     "execution_count": 7,
     "metadata": {},
     "output_type": "execute_result"
    }
   ],
   "source": [
    "low_marks"
   ]
  },
  {
   "cell_type": "code",
   "execution_count": 8,
   "id": "dc83eb60-43f4-44ac-a563-a9e3e67c3478",
   "metadata": {},
   "outputs": [],
   "source": [
    "average_vals = np.round(np.average(low_marks, axis = 1)).astype(int)"
   ]
  },
  {
   "cell_type": "code",
   "execution_count": 9,
   "id": "57d24285",
   "metadata": {},
   "outputs": [],
   "source": [
    "final_data = np.c_[low_marks, average_vals]"
   ]
  },
  {
   "cell_type": "code",
   "execution_count": 10,
   "id": "43bfc3b1",
   "metadata": {},
   "outputs": [
    {
     "data": {
      "text/plain": [
       "array([[39, 45, 49, 94, 72, 60],\n",
       "       [35, 35, 60, 65, 46, 48],\n",
       "       [35, 49, 43, 91, 75, 59],\n",
       "       [41, 39, 54, 35, 99, 54],\n",
       "       [44, 47, 43, 79, 45, 52],\n",
       "       [58, 43, 37, 36, 95, 54],\n",
       "       [38, 37, 70, 57, 47, 50],\n",
       "       [35, 99, 49, 76, 49, 62],\n",
       "       [49, 50, 99, 49, 36, 57]])"
      ]
     },
     "execution_count": 10,
     "metadata": {},
     "output_type": "execute_result"
    }
   ],
   "source": [
    "final_data"
   ]
  },
  {
   "cell_type": "code",
   "execution_count": 11,
   "id": "45e0850e-c49a-4d76-aeb2-1c6ab1bbb5c8",
   "metadata": {},
   "outputs": [
    {
     "data": {
      "text/plain": [
       "Text(0.5, 1.0, 'Average Grades for People with 3 or More Failing marks')"
      ]
     },
     "execution_count": 11,
     "metadata": {},
     "output_type": "execute_result"
    },
    {
     "data": {
      "image/png": "[encoded data removed]",
      "text/plain": [
       "<Figure size 432x288 with 1 Axes>"
      ]
     },
     "metadata": {
      "needs_background": "light"
     },
     "output_type": "display_data"
    }
   ],
   "source": [
    "plt.scatter(range(1, len(average_vals)+1), average_vals)\n",
    "plt.title('Average Grades for People with 3 or More Failing marks')"
   ]
  }
 ],
 "metadata": {
  "kernelspec": {
   "display_name": "Python 3 (ipykernel)",
   "language": "python",
   "name": "python3"
  },
  "language_info": {
   "codemirror_mode": {
    "name": "ipython",
    "version": 3
   },
   "file_extension": ".py",
   "mimetype": "text/x-python",
   "name": "python",
   "nbconvert_exporter": "python",
   "pygments_lexer": "ipython3",
   "version": "3.9.12"
  }
 },
 "nbformat": 4,
 "nbformat_minor": 5
}
