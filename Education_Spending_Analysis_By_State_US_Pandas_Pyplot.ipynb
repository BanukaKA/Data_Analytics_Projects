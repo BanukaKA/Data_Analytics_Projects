{
 "cells": [
  {
   "cell_type": "code",
   "execution_count": 1,
   "id": "d7c9ee13",
   "metadata": {},
   "outputs": [],
   "source": [
    "#Name : Banuka Kumara Ambegoda\n",
    "#Test 2"
   ]
  },
  {
   "cell_type": "code",
   "execution_count": 2,
   "id": "4ac0585f",
   "metadata": {},
   "outputs": [],
   "source": [
    "import pandas as pd"
   ]
  },
  {
   "cell_type": "code",
   "execution_count": 3,
   "id": "74beb0e8",
   "metadata": {},
   "outputs": [],
   "source": [
    "#Challenge 1\n",
    "import_df = pd.read_csv('UniversityCosts.csv')"
   ]
  },
  {
   "cell_type": "code",
   "execution_count": 4,
   "id": "7f44c966",
   "metadata": {},
   "outputs": [],
   "source": [
    "filtered_df = import_df[(import_df['Type'].str.contains('Public')) & \\\n",
    "                        (import_df['Length'] == '4-year') & \\\n",
    "                        ((import_df['Year'] >= 2017) & (import_df['Year'] <= 2020)) & \\\n",
    "                        ((import_df['State'] == 'Massachusetts') | (import_df['State'] == 'New York') | (import_df['State'] == 'Pennsylvania'))]"
   ]
  },
  {
   "cell_type": "code",
   "execution_count": 5,
   "id": "f073ce47",
   "metadata": {},
   "outputs": [
    {
     "data": {
      "text/html": [
       "<div>\n",
       "<style scoped>\n",
       "    .dataframe tbody tr th:only-of-type {\n",
       "        vertical-align: middle;\n",
       "    }\n",
       "\n",
       "    .dataframe tbody tr th {\n",
       "        vertical-align: top;\n",
       "    }\n",
       "\n",
       "    .dataframe thead th {\n",
       "        text-align: right;\n",
       "    }\n",
       "</style>\n",
       "<table border=\"1\" class=\"dataframe\">\n",
       "  <thead>\n",
       "    <tr style=\"text-align: right;\">\n",
       "      <th></th>\n",
       "      <th>Year</th>\n",
       "      <th>State</th>\n",
       "      <th>Type</th>\n",
       "      <th>Length</th>\n",
       "      <th>Expense</th>\n",
       "      <th>Value</th>\n",
       "    </tr>\n",
       "  </thead>\n",
       "  <tbody>\n",
       "    <tr>\n",
       "      <th>1777</th>\n",
       "      <td>2017</td>\n",
       "      <td>Massachusetts</td>\n",
       "      <td>Public In-State</td>\n",
       "      <td>4-year</td>\n",
       "      <td>Fees/Tuition</td>\n",
       "      <td>12331</td>\n",
       "    </tr>\n",
       "    <tr>\n",
       "      <th>1778</th>\n",
       "      <td>2017</td>\n",
       "      <td>Massachusetts</td>\n",
       "      <td>Public In-State</td>\n",
       "      <td>4-year</td>\n",
       "      <td>Room/Board</td>\n",
       "      <td>12142</td>\n",
       "    </tr>\n",
       "    <tr>\n",
       "      <th>1780</th>\n",
       "      <td>2017</td>\n",
       "      <td>Massachusetts</td>\n",
       "      <td>Public Out-of-State</td>\n",
       "      <td>4-year</td>\n",
       "      <td>Fees/Tuition</td>\n",
       "      <td>28740</td>\n",
       "    </tr>\n",
       "    <tr>\n",
       "      <th>1781</th>\n",
       "      <td>2017</td>\n",
       "      <td>Massachusetts</td>\n",
       "      <td>Public Out-of-State</td>\n",
       "      <td>4-year</td>\n",
       "      <td>Room/Board</td>\n",
       "      <td>12142</td>\n",
       "    </tr>\n",
       "    <tr>\n",
       "      <th>1865</th>\n",
       "      <td>2017</td>\n",
       "      <td>New York</td>\n",
       "      <td>Public In-State</td>\n",
       "      <td>4-year</td>\n",
       "      <td>Fees/Tuition</td>\n",
       "      <td>7709</td>\n",
       "    </tr>\n",
       "  </tbody>\n",
       "</table>\n",
       "</div>"
      ],
      "text/plain": [
       "      Year          State                 Type  Length       Expense  Value\n",
       "1777  2017  Massachusetts      Public In-State  4-year  Fees/Tuition  12331\n",
       "1778  2017  Massachusetts      Public In-State  4-year    Room/Board  12142\n",
       "1780  2017  Massachusetts  Public Out-of-State  4-year  Fees/Tuition  28740\n",
       "1781  2017  Massachusetts  Public Out-of-State  4-year    Room/Board  12142\n",
       "1865  2017       New York      Public In-State  4-year  Fees/Tuition   7709"
      ]
     },
     "execution_count": 5,
     "metadata": {},
     "output_type": "execute_result"
    }
   ],
   "source": [
    "filtered_df.head()"
   ]
  },
  {
   "cell_type": "code",
   "execution_count": 6,
   "id": "6be6cac2",
   "metadata": {},
   "outputs": [
    {
     "data": {
      "text/html": [
       "<div>\n",
       "<style scoped>\n",
       "    .dataframe tbody tr th:only-of-type {\n",
       "        vertical-align: middle;\n",
       "    }\n",
       "\n",
       "    .dataframe tbody tr th {\n",
       "        vertical-align: top;\n",
       "    }\n",
       "\n",
       "    .dataframe thead th {\n",
       "        text-align: right;\n",
       "    }\n",
       "</style>\n",
       "<table border=\"1\" class=\"dataframe\">\n",
       "  <thead>\n",
       "    <tr style=\"text-align: right;\">\n",
       "      <th></th>\n",
       "      <th>Year</th>\n",
       "      <th>State</th>\n",
       "      <th>Type</th>\n",
       "      <th>Length</th>\n",
       "      <th>Expense</th>\n",
       "      <th>Value</th>\n",
       "    </tr>\n",
       "  </thead>\n",
       "  <tbody>\n",
       "    <tr>\n",
       "      <th>3060</th>\n",
       "      <td>2020</td>\n",
       "      <td>New York</td>\n",
       "      <td>Public Out-of-State</td>\n",
       "      <td>4-year</td>\n",
       "      <td>Room/Board</td>\n",
       "      <td>15408</td>\n",
       "    </tr>\n",
       "    <tr>\n",
       "      <th>3104</th>\n",
       "      <td>2020</td>\n",
       "      <td>Pennsylvania</td>\n",
       "      <td>Public In-State</td>\n",
       "      <td>4-year</td>\n",
       "      <td>Fees/Tuition</td>\n",
       "      <td>15565</td>\n",
       "    </tr>\n",
       "    <tr>\n",
       "      <th>3105</th>\n",
       "      <td>2020</td>\n",
       "      <td>Pennsylvania</td>\n",
       "      <td>Public In-State</td>\n",
       "      <td>4-year</td>\n",
       "      <td>Room/Board</td>\n",
       "      <td>11839</td>\n",
       "    </tr>\n",
       "    <tr>\n",
       "      <th>3107</th>\n",
       "      <td>2020</td>\n",
       "      <td>Pennsylvania</td>\n",
       "      <td>Public Out-of-State</td>\n",
       "      <td>4-year</td>\n",
       "      <td>Fees/Tuition</td>\n",
       "      <td>30222</td>\n",
       "    </tr>\n",
       "    <tr>\n",
       "      <th>3108</th>\n",
       "      <td>2020</td>\n",
       "      <td>Pennsylvania</td>\n",
       "      <td>Public Out-of-State</td>\n",
       "      <td>4-year</td>\n",
       "      <td>Room/Board</td>\n",
       "      <td>11839</td>\n",
       "    </tr>\n",
       "  </tbody>\n",
       "</table>\n",
       "</div>"
      ],
      "text/plain": [
       "      Year         State                 Type  Length       Expense  Value\n",
       "3060  2020      New York  Public Out-of-State  4-year    Room/Board  15408\n",
       "3104  2020  Pennsylvania      Public In-State  4-year  Fees/Tuition  15565\n",
       "3105  2020  Pennsylvania      Public In-State  4-year    Room/Board  11839\n",
       "3107  2020  Pennsylvania  Public Out-of-State  4-year  Fees/Tuition  30222\n",
       "3108  2020  Pennsylvania  Public Out-of-State  4-year    Room/Board  11839"
      ]
     },
     "execution_count": 6,
     "metadata": {},
     "output_type": "execute_result"
    }
   ],
   "source": [
    "filtered_df.tail()"
   ]
  },
  {
   "cell_type": "code",
   "execution_count": 7,
   "id": "580ecced",
   "metadata": {},
   "outputs": [],
   "source": [
    "#Challenge 2\n",
    "grouped_df = filtered_df.groupby([\"State\",\"Expense\"])"
   ]
  },
  {
   "cell_type": "code",
   "execution_count": 8,
   "id": "715b96de",
   "metadata": {},
   "outputs": [],
   "source": [
    "final_df = grouped_df[\"Value\"].max().to_frame()"
   ]
  },
  {
   "cell_type": "code",
   "execution_count": 9,
   "id": "2913f900",
   "metadata": {},
   "outputs": [],
   "source": [
    "final_df.rename(columns={\"Value\":\"Highest Expenses\"}, inplace=True)"
   ]
  },
  {
   "cell_type": "code",
   "execution_count": 10,
   "id": "912feace",
   "metadata": {},
   "outputs": [],
   "source": [
    "final_df[\"Lowest Expenses\"] = grouped_df[\"Value\"].min().to_frame()"
   ]
  },
  {
   "cell_type": "code",
   "execution_count": 11,
   "id": "3a743b89",
   "metadata": {},
   "outputs": [],
   "source": [
    "final_df[\"Avg Expenses\"] = grouped_df[\"Value\"].mean().to_frame()"
   ]
  },
  {
   "cell_type": "code",
   "execution_count": 12,
   "id": "00dd7f41",
   "metadata": {},
   "outputs": [
    {
     "data": {
      "text/html": [
       "<div>\n",
       "<style scoped>\n",
       "    .dataframe tbody tr th:only-of-type {\n",
       "        vertical-align: middle;\n",
       "    }\n",
       "\n",
       "    .dataframe tbody tr th {\n",
       "        vertical-align: top;\n",
       "    }\n",
       "\n",
       "    .dataframe thead th {\n",
       "        text-align: right;\n",
       "    }\n",
       "</style>\n",
       "<table border=\"1\" class=\"dataframe\">\n",
       "  <thead>\n",
       "    <tr style=\"text-align: right;\">\n",
       "      <th></th>\n",
       "      <th></th>\n",
       "      <th>Highest Expenses</th>\n",
       "      <th>Lowest Expenses</th>\n",
       "      <th>Avg Expenses</th>\n",
       "    </tr>\n",
       "    <tr>\n",
       "      <th>State</th>\n",
       "      <th>Expense</th>\n",
       "      <th></th>\n",
       "      <th></th>\n",
       "      <th></th>\n",
       "    </tr>\n",
       "  </thead>\n",
       "  <tbody>\n",
       "    <tr>\n",
       "      <th rowspan=\"2\" valign=\"top\">Massachusetts</th>\n",
       "      <th>Fees/Tuition</th>\n",
       "      <td>31894</td>\n",
       "      <td>12331</td>\n",
       "      <td>21687.250</td>\n",
       "    </tr>\n",
       "    <tr>\n",
       "      <th>Room/Board</th>\n",
       "      <td>13889</td>\n",
       "      <td>12142</td>\n",
       "      <td>12995.750</td>\n",
       "    </tr>\n",
       "    <tr>\n",
       "      <th rowspan=\"2\" valign=\"top\">New York</th>\n",
       "      <th>Fees/Tuition</th>\n",
       "      <td>22669</td>\n",
       "      <td>7709</td>\n",
       "      <td>15020.750</td>\n",
       "    </tr>\n",
       "    <tr>\n",
       "      <th>Room/Board</th>\n",
       "      <td>15408</td>\n",
       "      <td>14042</td>\n",
       "      <td>14681.000</td>\n",
       "    </tr>\n",
       "    <tr>\n",
       "      <th rowspan=\"2\" valign=\"top\">Pennsylvania</th>\n",
       "      <th>Fees/Tuition</th>\n",
       "      <td>30222</td>\n",
       "      <td>14068</td>\n",
       "      <td>21398.125</td>\n",
       "    </tr>\n",
       "    <tr>\n",
       "      <th>Room/Board</th>\n",
       "      <td>11839</td>\n",
       "      <td>11261</td>\n",
       "      <td>11459.750</td>\n",
       "    </tr>\n",
       "  </tbody>\n",
       "</table>\n",
       "</div>"
      ],
      "text/plain": [
       "                            Highest Expenses  Lowest Expenses  Avg Expenses\n",
       "State         Expense                                                      \n",
       "Massachusetts Fees/Tuition             31894            12331     21687.250\n",
       "              Room/Board               13889            12142     12995.750\n",
       "New York      Fees/Tuition             22669             7709     15020.750\n",
       "              Room/Board               15408            14042     14681.000\n",
       "Pennsylvania  Fees/Tuition             30222            14068     21398.125\n",
       "              Room/Board               11839            11261     11459.750"
      ]
     },
     "execution_count": 12,
     "metadata": {},
     "output_type": "execute_result"
    }
   ],
   "source": [
    "final_df"
   ]
  },
  {
   "cell_type": "code",
   "execution_count": 13,
   "id": "6ff9625f",
   "metadata": {},
   "outputs": [
    {
     "data": {
      "text/plain": [
       "<AxesSubplot:title={'center':'High and Low Expense Values by Type within State'}, xlabel='State,Expense'>"
      ]
     },
     "execution_count": 13,
     "metadata": {},
     "output_type": "execute_result"
    },
    {
     "data": {
      "image/png": "[encoded data removed]",
      "text/plain": [
       "<Figure size 432x288 with 1 Axes>"
      ]
     },
     "metadata": {
      "needs_background": "light"
     },
     "output_type": "display_data"
    }
   ],
   "source": [
    "#Challenge 2 Graph\n",
    "final_df.plot(kind = \"bar\", y=['Highest Expenses','Lowest Expenses'], rot=90, title = 'High and Low Expense Values by Type within State')"
   ]
  }
 ],
 "metadata": {
  "kernelspec": {
   "display_name": "Python 3 (ipykernel)",
   "language": "python",
   "name": "python3"
  },
  "language_info": {
   "codemirror_mode": {
    "name": "ipython",
    "version": 3
   },
   "file_extension": ".py",
   "mimetype": "text/x-python",
   "name": "python",
   "nbconvert_exporter": "python",
   "pygments_lexer": "ipython3",
   "version": "3.9.12"
  }
 },
 "nbformat": 4,
 "nbformat_minor": 5
}
